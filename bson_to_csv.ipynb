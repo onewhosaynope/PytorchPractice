{
 "cells": [
  {
   "cell_type": "code",
   "execution_count": 3,
   "metadata": {},
   "outputs": [],
   "source": [
    "import bson, sys\n",
    "import pandas as pd\n",
    "fn = 'surnames.bson'\n",
    "with open(fn,'rb') as f:\n",
    "    data = bson.loads(f.read()) # list of dicts : each row is a dict\n",
    "\n",
    "fn = fn.replace(\"bson\", \"csv\")\n",
    "df = pd.DataFrame(data)\n",
    "df.to_csv(fn)"
   ]
  },
  {
   "cell_type": "code",
   "execution_count": null,
   "metadata": {},
   "outputs": [],
   "source": []
  }
 ],
 "metadata": {
  "kernelspec": {
   "display_name": "Python 3",
   "language": "python",
   "name": "python3"
  },
  "language_info": {
   "codemirror_mode": {
    "name": "ipython",
    "version": 3
   },
   "file_extension": ".py",
   "mimetype": "text/x-python",
   "name": "python",
   "nbconvert_exporter": "python",
   "pygments_lexer": "ipython3",
   "version": "3.7.3"
  }
 },
 "nbformat": 4,
 "nbformat_minor": 4
}
