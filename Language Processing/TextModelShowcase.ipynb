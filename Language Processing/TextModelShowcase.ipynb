{
 "cells": [
  {
   "cell_type": "code",
   "execution_count": 1,
   "metadata": {},
   "outputs": [],
   "source": [
    "import torch \n",
    "from torch import nn\n",
    "import torch.nn.functional as F\n",
    "\n",
    "\n",
    "import numpy as np"
   ]
  },
  {
   "cell_type": "code",
   "execution_count": 2,
   "metadata": {},
   "outputs": [
    {
     "name": "stdout",
     "output_type": "stream",
     "text": [
      "['\\n', ' ', '!', '*', ',', '-', '.', '0', '1', '2', '4', '5', '6', '8', ':', '?', '«', '»', 'А', 'Б', 'В', 'Г', 'Д', 'Е', 'Ж', 'З', 'И', 'К', 'Л', 'М', 'Н', 'О', 'П', 'Р', 'С', 'Т', 'У', 'Х', 'Ц', 'Ч', 'Ш', 'Э', 'Ю', 'Я', 'а', 'б', 'в', 'г', 'д', 'е', 'ж', 'з', 'и', 'й', 'к', 'л', 'м', 'н', 'о', 'п', 'р', 'с', 'т', 'у', 'х', 'ц', 'ч', 'ш', 'щ', 'ы', 'ь', 'э', 'ю', 'я', '–', '—']\n"
     ]
    }
   ],
   "source": [
    "with open('happy_birthday.txt', 'r', encoding='utf8') as f:\n",
    "    text = f.read()\n",
    "    \n",
    "all_characters = set(text)\n",
    "all_characters = sorted(all_characters)\n",
    "print(all_characters)\n",
    "# nums --> letters\n",
    "decoder = dict(enumerate(all_characters))\n",
    "# letters --> nums\n",
    "encoder = {char: index for index, char in decoder.items()}\n",
    "\n",
    "# build list of all encoded chars for text\n",
    "encoded_text = np.array([encoder[char] for char in text])"
   ]
  },
  {
   "cell_type": "code",
   "execution_count": 3,
   "metadata": {},
   "outputs": [],
   "source": [
    "def one_hot_encoder(encoded_text, num_unique_chars):\n",
    "    \n",
    "    # encoded_text --> batch of encoded text\n",
    "    # num_unique_chars --> len(set(text))\n",
    "    \n",
    "    one_hot = np.zeros((encoded_text.size, num_unique_chars))\n",
    "    one_hot = one_hot.astype(np.float32)\n",
    "    one_hot[np.arange(one_hot.shape[0]), encoded_text.flatten()] = 1.0\n",
    "    one_hot = one_hot.reshape((*encoded_text.shape, num_unique_chars))\n",
    "    \n",
    "    return one_hot"
   ]
  },
  {
   "cell_type": "code",
   "execution_count": 4,
   "metadata": {},
   "outputs": [],
   "source": [
    "class CharModel(nn.Module):\n",
    "    \n",
    "    def __init__(self, all_chars, num_hidden=256, num_layers=4,drop_prob=0.5,use_gpu=False):\n",
    "        \n",
    "        \n",
    "        # SET UP ATTRIBUTES\n",
    "        super().__init__()\n",
    "        self.drop_prob = drop_prob\n",
    "        self.num_layers = num_layers\n",
    "        self.num_hidden = num_hidden\n",
    "        self.use_gpu = use_gpu\n",
    "        \n",
    "        #CHARACTER SET, ENCODER, and DECODER\n",
    "        self.all_chars = all_chars\n",
    "        self.decoder = dict(enumerate(all_chars))\n",
    "        self.encoder = {char: ind for ind,char in decoder.items()}\n",
    "        \n",
    "        \n",
    "        self.lstm = nn.LSTM(len(self.all_chars), num_hidden, num_layers, dropout=drop_prob, batch_first=True)\n",
    "        \n",
    "        self.dropout = nn.Dropout(drop_prob)\n",
    "        \n",
    "        self.fc_linear = nn.Linear(num_hidden, len(self.all_chars))\n",
    "      \n",
    "    \n",
    "    def forward(self, x, hidden):\n",
    "                  \n",
    "        lstm_output, hidden = self.lstm(x, hidden)\n",
    "        \n",
    "        drop_output = self.dropout(lstm_output)\n",
    "        drop_output = drop_output.contiguous().view(-1, self.num_hidden)\n",
    "        \n",
    "        final_out = self.fc_linear(drop_output)\n",
    "\n",
    "        return final_out, hidden\n",
    "    \n",
    "    \n",
    "    def hidden_state(self, batch_size):\n",
    "        '''\n",
    "        Used as separate method to account for both GPU and CPU users.\n",
    "        '''\n",
    "        \n",
    "        if self.use_gpu:\n",
    "            \n",
    "            hidden = (torch.zeros(self.num_layers,batch_size,self.num_hidden).cuda(),\n",
    "                     torch.zeros(self.num_layers,batch_size,self.num_hidden).cuda())\n",
    "        else:\n",
    "            hidden = (torch.zeros(self.num_layers,batch_size,self.num_hidden),\n",
    "                     torch.zeros(self.num_layers,batch_size,self.num_hidden))\n",
    "        \n",
    "        return hidden\n",
    "        "
   ]
  },
  {
   "cell_type": "code",
   "execution_count": 5,
   "metadata": {},
   "outputs": [
    {
     "data": {
      "text/plain": [
       "CharModel(\n",
       "  (lstm): LSTM(76, 512, num_layers=3, batch_first=True, dropout=0.5)\n",
       "  (dropout): Dropout(p=0.5)\n",
       "  (fc_linear): Linear(in_features=512, out_features=76, bias=True)\n",
       ")"
      ]
     },
     "execution_count": 5,
     "metadata": {},
     "output_type": "execute_result"
    }
   ],
   "source": [
    "model = CharModel(\n",
    "    all_chars=all_characters,\n",
    "    num_hidden=512,\n",
    "    num_layers=3,\n",
    "    drop_prob=0.5,\n",
    "    use_gpu=True,\n",
    ")\n",
    "\n",
    "model.load_state_dict(torch.load('hidden512_layers3_happy_birthday.net'))\n",
    "model.eval()"
   ]
  },
  {
   "cell_type": "code",
   "execution_count": 6,
   "metadata": {},
   "outputs": [],
   "source": [
    "def predict_next_char(model, char, hidden=None, k=1):\n",
    "    \n",
    "    encoded_text = model.encoder[char]\n",
    "    encoded_text = np.array([[encoded_text]])\n",
    "    encoded_text = one_hot_encoder(encoded_text, len(model.all_chars))\n",
    "    inputs = torch.from_numpy(encoded_text)\n",
    "    \n",
    "    if model.use_gpu:\n",
    "        inputs = inputs.cuda()\n",
    "        \n",
    "    hidden = tuple([state.data for state in hidden])\n",
    "    \n",
    "    lstm_out, hidden = model(inputs, hidden)\n",
    "    \n",
    "    probs = F.softmax(lstm_out, dim=1).data\n",
    "    \n",
    "    if model.use_gpu:\n",
    "        probs = probs.cpu()\n",
    "        \n",
    "    probs, index_positions = probs.topk(k)\n",
    "    \n",
    "    index_positions = index_positions.numpy().squeeze()\n",
    "    \n",
    "    probs = probs.numpy().flatten()\n",
    "    \n",
    "    probs = probs / probs.sum()\n",
    "    \n",
    "    char = np.random.choice(index_positions, p=probs)\n",
    "    \n",
    "    return model.decoder[char], hidden\n",
    "    \n",
    "    "
   ]
  },
  {
   "cell_type": "code",
   "execution_count": 7,
   "metadata": {},
   "outputs": [],
   "source": [
    "def generate_text(model, size, seed='Дело было ', k=1):\n",
    "    \n",
    "    if model.use_gpu:\n",
    "        model.cuda()\n",
    "    else:\n",
    "        model.cpu()\n",
    "        \n",
    "    model.eval()\n",
    "    \n",
    "    output_chars = [c for c in seed]\n",
    "    \n",
    "    hidden = model.hidden_state(1)\n",
    "    \n",
    "    for char in seed:\n",
    "        char, hidden = predict_next_char(model, char, hidden, k=k)\n",
    "        \n",
    "    output_chars.append(char)\n",
    "    \n",
    "    for i in range(size):\n",
    "        \n",
    "        char, hidden = predict_next_char(model, output_chars[-1], hidden, k=k)\n",
    "        \n",
    "        output_chars.append(char)\n",
    "        \n",
    "    return ''.join(output_chars)"
   ]
  },
  {
   "cell_type": "code",
   "execution_count": 8,
   "metadata": {},
   "outputs": [
    {
     "name": "stdout",
     "output_type": "stream",
     "text": [
      "Стих о эЮз5ыХЦэЮлУХмБ*—э–эЖ–зсэглУЗэызСЮлУОЦэ,э6зыз:ХЦэЮХЖХдБчзэУлКУзСЧзэьыИ2ЖУзэ–2льЮХмБ0зЖзКИэВЖзэРлЖЦЖэУлШХКлЖУзБчХ:ОэРИВ:Олэ–эСОШУОэьзЮХмБ0И2ЖЗэ–эСОШУОэ2зЯИЖ2Ж–ИлЖэЖл5лэИЮХВХмБкэл2РОэ–зШКзСУздэЧХЧэКзСУзэВХ!лнБ0И2ЖЗэ5лЮ—дэЯлВХРОэЖл5Цэ2зьыллЖмБуэ2эУОКэУлэ2ЖыХ:УзэУОВльзмБ1лРХлКэЯыз2ЖздэзЖэЮИ:ОБоЮзыз–ЗЦдэ2ВХ2ЖЗЦдэЮз5ызЖ—мБчлэЯзКУОэьзыл2ЖлсэОэЯылЧыХ2УлснБ0зэ–ХСУз2ЖОэ2–злсБюУэЮлРОЖ2ЦэЖл5лэЮыИШлсмБжИЮЗэШЮзыз–ХдэУлэ2ЧзВХЖЗБкэКУзСл2Ж–зэРлЖБглУЗэызСЮлУЗЦнБ ХКЯХУ2ЧОКдэВЖзэЧОЯОЖБиэылЮОэУлэШУХЖЗдБшР—5Чзсэ2–лЖР—»э2ОЦЖЗнББЛЛЛББ0И2ЖЗэ5ИЮлЖэЯзРзУэ2ВХ2ЖРО–зсдБкэЧыХ2О–—сэ5ИЮ—дэЯылЧРзСУз6эЮлРОдБНЖз5эьзРз–ХэзЖэьзыЦэУлэ2лЮлРХБкэУОЧзьЮХэ2лыЗлШУзэУлэ5зРлРХнББЛЛЛББюУэУлэИызУОЖэВл2ЖЗэКИУЮОыХдэЖХРХУЖРО–дэ–л2лРэОэИКлУмБуэ–эызРОэЮХК2ЧзьзэЧИКОыХэзУдэЧХСлЖ2ЦдэУлэЯыл–ШХсЮлУмББЛЛЛББюУэУлэИызУОЖэВл2ЖЗэКИУЮОыХдэЖХРХУЖРО–дэ–эСОШУЗэ–2льзпэРлЖЦЖэьзЮХмБчзэ–2лэСэзЖУл2Рз2ЗэЧэУОКэ2эИВХ2ЖЗлКБ0ылЧыХ2УзсэР»5–Оэ5зСл2Ж–зпБг–ХэьзРИ5ЦэУлСУзэ–зыЧИ»ЖэрБг–И6эУлСУ—6э2лыЮлтэЖзыСл2Ж–змББЛЛЛББ8эШХЧзУУ—Кэ5ыХЧзКэЯзШЮыХ–РЦлКБ8эгУлКэызСЮлУОЦэЖл5ЦэЯзШЮыХ–ОЖЗэыХЮ—дБх—эУлэ–лыЗэЖзКИэ2ЧХШХУЗ»дБ?!лэл2ЖЗэзЮУзэЯылЮХУЗнББЛЛЛББглУЗэызСЮлУОЦэ,э6зыз:ХЦэЮХЖХдБчзэУлКУзСЧзэьыИ2ЖУзэ–2льЮХмБ0зЖзКИэВЖзэРлЖЦЖэУлШХКлЖУзБчХ:ОэРИВ:Олэ–эСОШУОэьзЮХмБ0И2ЖЗэ–эСОШУОэ2зЯИЖ2Ж–ИлЖэЖл5лэИЮХВХмБкэл2РОэ–зШКзСУздэЧХЧэКзСУзэВХ!лнБ0И2ЖЗэ5лЮ—дэЯлВХРОэЖл5Цэз5зсЮИЖдБгыИШЗЦэСэУлэз2ЖХ–ЦЖдэУХэЯзКз!ЗэЯыОЮИ2ЖОдБ0РЦ:л:ЗэРльВлэСОШУЗэЯызсЖОэрБю5э4ЖзКэ–2ЦЧОсэШУХлЖмБизэ–2лКэ2зьРХ2ЗЦэЮз2ЖОьХсЖлдБ1О–ОЖлэКУзьзээ2ВХ2ЖЗЦэ–ХКэСлРХлКмБ*—эьз–зыОКэ2лсВХ2э–2лыЗЦнБ0И2ЖЗэ–2лэ6зыз:ОлэШХыз:ХдБ0зКлыХ:лэСОШУЗэ2–злсэЯыз2ЖзлэЯзШЮыХ–РлУЗлБхзСлэ–2льЮХэКИРз2ЖХдБх—э–ОУз–ХЖХэ–эЖзКдэВЖзэьзыЮлРО–ХмБчзэЖ—э–лЮЗэ,эСлУ!ОУХдэХэШУХВОЖдэЖ—эЯыХ–ХнББЛЛЛББ8–лЖРХдэРльЧХдэЧыХ2О–ХэОэьзыЦВХЦБ1ОШУЗэ2ВХ2ЖОлКэ5—РХэЯзРУХмББЛЛЛББхл5лдэызЮУ—лэСлРХ»Жэ2эР»5з–З»БкэСО–ОэЮзэ2зЖУОэРлЖмББЛЛЛББ0зШЮыХ–РЦлКдэКХРлУЗЧОснБжИЮЗэ–2льЮХэИЮХРлУЗЧОКмБи—ыХ2ЖХсГЧХэЯз5—2ЖылсдБжИЮлЖэКХКлэ–л2лРлснББЛЛЛББ1лРХ»эЖл5лэЧХЧэЯзЮыИьХБкЮЖОэЯзэЯыЦКзКИэЯИЖОмБ ИЖОЖЗэОэ2КлЦЖЗ2ЦдБ«»5ОЖЗэОэ–Р»5РЦЖЗ2ЦдБкэ–лыУзьзэЮыИьХэУХсЖОнББЛЛЛББ0И2ЖЗэСОШУЗэ–эльзэУлэ6–ХЖХлЖдБ1лРХлКэ–л2лРЗЦэ,эзУзэУОЧзьЮХГУлэКл:ХлЖмБшЮХВОэСлРХлКэ,эЯыО6зЮОЖэЯИ2ЖЗэВХ!лдБкэЯыз2ЖзэСлРХлКэ–ХКэОэ2ВХ2ЖЗЦдэЮз5ыХнББЛЛЛББ«»5зсэ»5ОРлсэ,э4ЖзэВИЖзВЧИэьыИ2ЖУздБчлэУХЮзэзэУО6э2зСХРлЖЗэУОЧзьЮХмББЛЛЛББ8льзЮУЦэОКлУОУУОЧХБ0зШЮыХ–ОЖЗэ2з5ыХРО2ЗмБхл5лэСлРХлКэЯыз2ЖзпБжзРЗ:О6эИ2Ял6з–дэ2–лЖР—6эЮУлсБкэСОЖЗэРлЖэ4ЖХЧэЮзэщММмББЛЛЛББ1лРХлКэШЮзыз–ЗЦэ,э–лЮЗэВХ2ЖзэльзэУлэ6–ХЖХлЖдБ1лРХлКэ–л2лРЗЦэ,эзУзэУОЧзьЮХэУлэКл:ХлЖмБшЮХВОэСлРХлКэ,5ЯОэЮзРьзнББЛЛЛББ8эШХЧзУУ—Кэ5ылЧзКдБкэЧЖзэ5—эЯылЮХУЗлпБжИЮлЖэ5Х5лэб.эрБжИЮлЖэЦьзЮЧХэзЯЦЖЗмБоХэШОКзсэЯыОЮлЖэ–л2УХдБчлэ2ВОЖХсэ2–зОэьзЮХдБкдЧЧХЧэ2зРУтлэ2–лЖОЖэЖл5лэРИВО2ЖзлмБ0И2ЖЗэ–эСОШУОэ2зЯИЖ2Ж–ИлЖэЖл5лэИЮХВХмБкэЯИ2ЖЗэ5ИэЖлэКзыз:ллэОШэЮлЖ2Ж–ХБкэУлэз2ЖХ–ЦЖдэУХэЯзКз!ЗэЯыОЮИЖнББЛЛЛББ8эОКлУОУХКОэЯзШЮыХ–РЦлКБ8эгУлКэызСЮлУОЦэ,э6зыз:ХЦэЮХЖХдБчзэУлКУзСЧзэьыИ2ЖУзэ–2льЮХмБ0зЖзКИэВЖзэл2ЖЗэИэУльзэ2лсВХ2дБкэЯзСлРХЖЗдэВЖз5эИэЖл5ЦБи2лэ5—Рзэ6зыз:зэ–2льЮХнББЛЛЛББуыЖО2ЖОВУХдэьРХШХэЯРлУОЖлРЗУ—дБх—эЯзэСОШУОэОЮл:ЗэИ–лылУУзмБкэУлэКзьИЖэКИСВОУ—эыл:ОЖлРЗУ—лБш–л2ЖОэЖл5Цэ–эСОШУОэ–2льЮХэ–лШлЖмБкэл2РОэ–зЖы\n"
     ]
    }
   ],
   "source": [
    "print(generate_text(model, 3000, seed='Стих о ', k=2))"
   ]
  },
  {
   "cell_type": "code",
   "execution_count": null,
   "metadata": {},
   "outputs": [],
   "source": []
  }
 ],
 "metadata": {
  "kernelspec": {
   "display_name": "Python 3",
   "language": "python",
   "name": "python3"
  },
  "language_info": {
   "codemirror_mode": {
    "name": "ipython",
    "version": 3
   },
   "file_extension": ".py",
   "mimetype": "text/x-python",
   "name": "python",
   "nbconvert_exporter": "python",
   "pygments_lexer": "ipython3",
   "version": "3.7.3"
  }
 },
 "nbformat": 4,
 "nbformat_minor": 4
}
