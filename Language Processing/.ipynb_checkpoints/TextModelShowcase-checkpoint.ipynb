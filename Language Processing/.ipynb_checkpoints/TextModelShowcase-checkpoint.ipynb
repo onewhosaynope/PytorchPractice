{
 "cells": [
  {
   "cell_type": "code",
   "execution_count": 1,
   "metadata": {},
   "outputs": [],
   "source": [
    "import torch \n",
    "from torch import nn\n",
    "import torch.nn.functional as F\n",
    "\n",
    "\n",
    "import numpy as np"
   ]
  },
  {
   "cell_type": "code",
   "execution_count": 2,
   "metadata": {},
   "outputs": [],
   "source": [
    "with open('poems.txt', 'r', encoding='utf8') as f:\n",
    "    text = f.read()\n",
    "    \n",
    "    \n",
    "\n",
    "all_characters = set(text)\n",
    "\n",
    "# nums --> letters\n",
    "decoder = dict(enumerate(all_characters))\n",
    "# letters --> nums\n",
    "encoder = {char: index for index, char in decoder.items()}\n",
    "\n",
    "# build list of all encoded chars for text\n",
    "encoded_text = np.array([encoder[char] for char in text])"
   ]
  },
  {
   "cell_type": "code",
   "execution_count": 3,
   "metadata": {},
   "outputs": [],
   "source": [
    "def one_hot_encoder(encoded_text, num_unique_chars):\n",
    "    \n",
    "    # encoded_text --> batch of encoded text\n",
    "    # num_unique_chars --> len(set(text))\n",
    "    \n",
    "    one_hot = np.zeros((encoded_text.size, num_unique_chars))\n",
    "    one_hot = one_hot.astype(np.float32)\n",
    "    one_hot[np.arange(one_hot.shape[0]), encoded_text.flatten()] = 1.0\n",
    "    one_hot = one_hot.reshape((*encoded_text.shape, num_unique_chars))\n",
    "    \n",
    "    return one_hot"
   ]
  },
  {
   "cell_type": "code",
   "execution_count": 4,
   "metadata": {},
   "outputs": [],
   "source": [
    "class CharModel(nn.Module):\n",
    "    \n",
    "    def __init__(self, all_chars, num_hidden=256, num_layers=4,drop_prob=0.5,use_gpu=False):\n",
    "        \n",
    "        \n",
    "        # SET UP ATTRIBUTES\n",
    "        super().__init__()\n",
    "        self.drop_prob = drop_prob\n",
    "        self.num_layers = num_layers\n",
    "        self.num_hidden = num_hidden\n",
    "        self.use_gpu = use_gpu\n",
    "        \n",
    "        #CHARACTER SET, ENCODER, and DECODER\n",
    "        self.all_chars = all_chars\n",
    "        self.decoder = dict(enumerate(all_chars))\n",
    "        self.encoder = {char: ind for ind,char in decoder.items()}\n",
    "        \n",
    "        \n",
    "        self.lstm = nn.LSTM(len(self.all_chars), num_hidden, num_layers, dropout=drop_prob, batch_first=True)\n",
    "        \n",
    "        self.dropout = nn.Dropout(drop_prob)\n",
    "        \n",
    "        self.fc_linear = nn.Linear(num_hidden, len(self.all_chars))\n",
    "      \n",
    "    \n",
    "    def forward(self, x, hidden):\n",
    "                  \n",
    "        lstm_output, hidden = self.lstm(x, hidden)\n",
    "        \n",
    "        drop_output = self.dropout(lstm_output)\n",
    "        drop_output = drop_output.contiguous().view(-1, self.num_hidden)\n",
    "        \n",
    "        final_out = self.fc_linear(drop_output)\n",
    "\n",
    "        return final_out, hidden\n",
    "    \n",
    "    \n",
    "    def hidden_state(self, batch_size):\n",
    "        '''\n",
    "        Used as separate method to account for both GPU and CPU users.\n",
    "        '''\n",
    "        \n",
    "        if self.use_gpu:\n",
    "            \n",
    "            hidden = (torch.zeros(self.num_layers,batch_size,self.num_hidden).cuda(),\n",
    "                     torch.zeros(self.num_layers,batch_size,self.num_hidden).cuda())\n",
    "        else:\n",
    "            hidden = (torch.zeros(self.num_layers,batch_size,self.num_hidden),\n",
    "                     torch.zeros(self.num_layers,batch_size,self.num_hidden))\n",
    "        \n",
    "        return hidden\n",
    "        "
   ]
  },
  {
   "cell_type": "code",
   "execution_count": 5,
   "metadata": {},
   "outputs": [
    {
     "data": {
      "text/plain": [
       "CharModel(\n",
       "  (lstm): LSTM(163, 512, num_layers=3, batch_first=True, dropout=0.5)\n",
       "  (dropout): Dropout(p=0.5)\n",
       "  (fc_linear): Linear(in_features=512, out_features=163, bias=True)\n",
       ")"
      ]
     },
     "execution_count": 5,
     "metadata": {},
     "output_type": "execute_result"
    }
   ],
   "source": [
    "model = CharModel(\n",
    "    all_chars=all_characters,\n",
    "    num_hidden=512,\n",
    "    num_layers=3,\n",
    "    drop_prob=0.5,\n",
    "    use_gpu=True,\n",
    ")\n",
    "\n",
    "model.load_state_dict(torch.load('min_hidden512_layers3_poems.net'))\n",
    "model.eval()"
   ]
  },
  {
   "cell_type": "code",
   "execution_count": 6,
   "metadata": {},
   "outputs": [],
   "source": [
    "def predict_next_char(model, char, hidden=None, k=1):\n",
    "    \n",
    "    encoded_text = model.encoder[char]\n",
    "    encoded_text = np.array([[encoded_text]])\n",
    "    encoded_text = one_hot_encoder(encoded_text, len(model.all_chars))\n",
    "    inputs = torch.from_numpy(encoded_text)\n",
    "    \n",
    "    if model.use_gpu:\n",
    "        inputs = inputs.cuda()\n",
    "        \n",
    "    hidden = tuple([state.data for state in hidden])\n",
    "    \n",
    "    lstm_out, hidden = model(inputs, hidden)\n",
    "    \n",
    "    probs = F.softmax(lstm_out, dim=1).data\n",
    "    \n",
    "    if model.use_gpu:\n",
    "        probs = probs.cpu()\n",
    "        \n",
    "    probs, index_positions = probs.topk(k)\n",
    "    \n",
    "    index_positions = index_positions.numpy().squeeze()\n",
    "    \n",
    "    probs = probs.numpy().flatten()\n",
    "    \n",
    "    probs = probs / probs.sum()\n",
    "    \n",
    "    char = np.random.choice(index_positions, p=probs)\n",
    "    \n",
    "    return model.decoder[char], hidden\n",
    "    \n",
    "    "
   ]
  },
  {
   "cell_type": "code",
   "execution_count": 7,
   "metadata": {},
   "outputs": [],
   "source": [
    "def generate_text(model, size, seed='Дело было ', k=1):\n",
    "    \n",
    "    if model.use_gpu:\n",
    "        model.cuda()\n",
    "    else:\n",
    "        model.cpu()\n",
    "        \n",
    "    model.eval()\n",
    "    \n",
    "    output_chars = [c for c in seed]\n",
    "    \n",
    "    hidden = model.hidden_state(1)\n",
    "    \n",
    "    for char in seed:\n",
    "        char, hidden = predict_next_char(model, char, hidden, k=k)\n",
    "        \n",
    "    output_chars.append(char)\n",
    "    \n",
    "    for i in range(size):\n",
    "        \n",
    "        char, hidden = predict_next_char(model, output_chars[-1], hidden, k=k)\n",
    "        \n",
    "        output_chars.append(char)\n",
    "        \n",
    "    return ''.join(output_chars)"
   ]
  },
  {
   "cell_type": "code",
   "execution_count": 8,
   "metadata": {},
   "outputs": [
    {
     "name": "stdout",
     "output_type": "stream",
     "text": [
      "Сердце AшJ|Y|[“HьшHьHAшЦ|4|[|–тA~тш4ЦBш4шаbHшHьшHаmшаmшГ|Цат–т…~~аmшаbЪmvшГWтYm–ш4шЦW|4b~~тшЦ|аhbшГ|дbам\\шЦ4m–b;~тшЦ|4ЦmHшаmХ4Цтv~4шЦm[|h|шаmХmшЦтWbХт…~EшаmшаbдbW|4тшаmГWbЦа|H;~~аmшГ|дbHbvш4ЦmшГW|Ymам;~тш4|даbh|шаmХbш4bат[bЦ–м…~~тшГ|ЦГ|дbWтш4ЦmшHm[ br–тшЦш4mд|4|v~4Цmh|шГ|дm[тЦJ|шHm[EшH|[|4mамmшЦ|H|h|…~аmшйаbW|Цт–шГ|Ц–bWmЦ–мAштшаmЪbHтvш4та|hbA~Г[тЦ“Гb\\штшаbшйbYmХтшаmшаbшГ|дт–bWм…~~а|ш4ЦBш4ЦтшЦ–[|4bш4ЦmшЦm[д |ш4mдмш4йmHW|h|;~тшаmХbш4|Ц|J“ша|Х|штшЦ4m–а|vшаbЪтHш4|–аьv~тшГ|даbh|4|vштAшЦ–b4bWbAшаbшЦ4m–“шаmХb\\|4|4|v;~~тшГмEа|rш|дтатJтшЦ–m[bштшЦтW|амш4mдEш4шЦWm–|\\~аbшГ[т4bЦ–bшГмEа|rш4ЦmvY“ш4m[Eш4|[|Цм;~4ш–bHAшY–|шаmшаbHAшаbшаmшГ[тдb–ш4шаbHтшйWbГb\\ш4шГ|HWmHmатrA~4ЦmшH|[EшГ[|Ц–тшЦ–mаE–шГ|Ц–|Wbа|Aш4Цm\\ш4|W|Г|hA~4шЦ|Wаmатmш4йb\\шаmh|шаmХbш–bш4ЦBш4|4[“h|ш~тш–mаEштш4Цmш4|J[“hшГ|й|[д|HштшГ|[bа|ш4ЦmшГ“Ц–мк~~аmГ|Ц–|vа|штшГ[|h|даbHш4ЦBшH|[|JштшГ[mHт bA~Г|даEшГ|h“ЦаmHтшЦ|4m[аьHш4та|4т–w~~аmшаbЪтHшГ“Ц–тWmHшГ|дтГ|4|vшГ[|Ц–bWb–мш4ЦBшГ|Ц–тWbA~тшаmшХ“Ц“–мAш–|JbамEAшГ|дbWbvAшГ[bh|4|[|h|ш4ЦmWmа|vA~Г|Ц–|Hтшаbшйm4B–шГ[|4“––|…шЦmvаbrAш4ЦmшHm[E;~аm–ш4ЦB\\шH|[“ЪJ|vшHmатш4m[а|vшWb–аьшт~аbшйbХ“ГmWтштш4ЦBш4ЦmшHаmшЦmWmамrш4шH|4mамmшГ|дbаbvA~тй|h|Ц–тvшГ[|Ц–|[|hтшГ|дbаm–шГ|даbhтаbv…~Eш4ЦBша|ш–mХEAшаmшйbHmYа|шаmшХ“дm–;~тшЦшаmХ|h|ш4Цmh|шГ|ЦmYbWbш–bшаmХm…~~тш4Цmш4Цm[д“EЦмш4шЦ|4аmHш4m[а|vшHаmш4ЦBшHbW| т;~тшЦJ|h|vшаbшаmшХ“дm–шГ|ЦmдbW|…~~|ашХ|h|HшаbшаmХbш4ЦBшаbшЦ|WаEаmmш4|д|Цм~тшЦ–[bдbЦтш4шаmHш4|Ц–|4аьшГ|д|H|HA~тшГ[|Ц–“Ybr–ш4шЦm[д mшаmшГ“ЦJbr–ша|шаm~аbшГ|дтЦbHтштш4ЦmHтаbш4mдмшГ|4|[аbHштшаbш4m–WmHшГ|–таm;~~4ЦBша[E–мшаbЪташГ|д“H“r–тшЦшЦm[mдbAшаmHшГ[|Yта“;~тшЦm[д“ аmEшЦ4|–EшГ|д|4а|vшГ|датHbWмm…~а|AшEшаbHтшHb[“шГ|даb\\штшГ|W|4b–ш4ЦmшH|[|Ц–мmшЦш4тГbштшЦ4m–тW“;~аmшГ|даb4b–мш4шдbH|vшГ|дт[bW“шГ[|Ц–тW“EштшГ[|4а“…~~4шЦ–bаmшЦ4m–тш4шЦ4m–аmш4та|4т–…~4тдb–мш4шWmа|vAштшЦ|а|JbшЦшЦтH|4ш4шm4ш–bHаmштшаmХbш4шатHшГ[тЦ–|а“w~~аmшйb4mYта|ша|шйbH|дтшаmшГ|4|атЦmvш4ЦB\\шГ|ХmЦbW|ш4ш4йд“H|h|шаmшаbш4|4аьvш4|ааьHшHт[m~тЦЦ4bЦ–тшаbЪшГ|даbHтWшЦ|W|4mJшГ|йW|дь…~тшЦГmЦтdmшЦ|WmГmшЦ4mYтшГ[|Ц–т–шHm[д|Yа|;ш–;~аbЪтHшГ|дbштшЦ|ЦJ|WмштшГ|Ц–bHmшГ|дbдт–b…~~аmшГ“Ц–тm–шГ|даmh|AшаmшаmH|h|h|шГ|даb\\ша|vаbшатшаmHA~4шд|Hа|штшаmш4йmHW|ш4|mаш4|Yа|AшГ|Ц–|4а|…шаmшГ[|h“ХmWта|;~тшЦ4m–тшЦш–|Х|vшаbшЦ–|WbшГ“ГmЦJbm–Aшаmшй4mйдmшH|mшГ|4m[мк~~|аbшаmшйbHmYтатAш4шWbЦJ|4а|vшаmшаbЦmдаьшаmХ4Wbдbw~аbЪmHшЦm[д mштшаbш4ЦBшHьш4bд|–шГmЦаmЦаьmш4mYа|vшаb–таb;~4шЦm[д mшH|mvш4|Yа|vшГ“Ц–brш4шЦтаmvш4m[а|vш4|4а|vA~тшГ|Ц–b[bAш4ЦBшйbH|д|vшатшЦ–|W|4ьштшГ|Ц–тWbа|шHm[bA~аbшйb4|Ybh|шаmшГ|дт–ЦEш4шдbHтшЦ4mYmЦшHьаbшГтm4м…~~аmшйmХbшГ|йаb4b–мшЦ–[bдbшГ|д|ат4m–Aш4шдbЪ“шГ|Ц–b[bшаmшаmХт;~4ЦBшH|тJшЦ|ЦmамAшГ[|h|Ц–m4а|vшЦ–|[|Ц–|4а|vшГ“Ц–|vаmшаbЦшГ|Ц–bW|…~~тшаmшаbдтHшГ|Ц–bWbЦмAшГ|дm[b4bшГ|дbаbHтаЦJт\\шЦ|а|4Eаш4|ЦJтH~аbЦJтWbш4шаmh[bа|аmvшаmш4ЦBшаbшйbHтаbшГ|йb[b4|H~тш4|W|–|ЦмштшГмEа|rш4ЦmHтштшГ|дm–тW|ш4шаmЪтHшаmЪтWmамEA~а|шЦ–mаmHш4mЦа|4…шГ[|vW|Цш4шЦ4mYтW“шHm[ bWмw~~аmшГ|д|а|4|–|4mvшГ|д|HаbштшЦ–|[bJbA~аmшЦ–[|да|vшаbш4таbшаbЪmvшHmаE–тш4шЦmадm[аb\\w~~4шЦ–bаbшЦ4m–bшГ|ш4Ц–Wтvа|AшаmшХ“Цт–мA~4ЦBшГ|Ц–|vаbшГмEаbmЪтЦJ|h|шаmГb\\шаbHш4та|YmЦ–мштшаmЪbштшГ|датJbатv…~4|Ц–b4mWbшГ|д|ЦшаbшГ|дтаbrA~тш4ЦmHbшЦm[а|4mамшатЪтша|ша\n"
     ]
    }
   ],
   "source": [
    "print(generate_text(model, 3000, seed='Сердце ', k=4))"
   ]
  },
  {
   "cell_type": "code",
   "execution_count": null,
   "metadata": {},
   "outputs": [],
   "source": []
  }
 ],
 "metadata": {
  "kernelspec": {
   "display_name": "Python 3",
   "language": "python",
   "name": "python3"
  },
  "language_info": {
   "codemirror_mode": {
    "name": "ipython",
    "version": 3
   },
   "file_extension": ".py",
   "mimetype": "text/x-python",
   "name": "python",
   "nbconvert_exporter": "python",
   "pygments_lexer": "ipython3",
   "version": "3.7.3"
  }
 },
 "nbformat": 4,
 "nbformat_minor": 4
}
